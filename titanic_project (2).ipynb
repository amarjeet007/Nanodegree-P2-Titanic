{
 "cells": [
  {
   "cell_type": "markdown",
   "metadata": {},
   "source": [
    "# investigating titanic dataset\n",
    "## Question investigated\n",
    "#### 1.what factors made people more likely to survive?      \n",
    "####     a. sex(who is more likely to survive male or female)\n",
    "####     b. age ( can be ...who is more likely to survive children ,adult,older)\n",
    "####     c. which class is more likely to survive?\n",
    "#### 2. survival rate of passenger travelling with family and survival rate of passenger travelling alone\n",
    "#### 3.finding correlation between different variables such as between age and survived\n",
    "#### 4.how fare rate affected the survival "
   ]
  },
  {
   "cell_type": "markdown",
   "metadata": {},
   "source": [
    "##  Contains passenger information for passengerids 1-891:\n",
    "######  PassengerId --> A unique identifier for the passenger \n",
    "######  Survived --> returns 1 if the passenger survived ,else return 0\n",
    "###### Pclass --> Pclass is a proxy for socio-economic status (SES)\n",
    "          1st ~ Upper; 2nd ~ Middle; 3rd ~ Lower\n",
    "###### Name \n",
    "###### Sex\n",
    "###### Age\n",
    "###### SibSp and Parch --> With respect to the family relation variables (i.e. sibsp and parch)\n",
    "######                    some relations were ignored.  The following are the definitions used\n",
    "######                  for sibsp and parch.\n",
    "######\n",
    "######                    Sibling:  Brother, Sister, Stepbrother, or Stepsister of Passenger Aboard Titanic\n",
    "######                    Spouse:   Husband or Wife of Passenger Aboard Titanic (Mistresses and Fiances Ignored)\n",
    "######                    Parent:   Mother or Father of Passenger Aboard Titanic\n",
    "######                    Child:    Son, Daughter, Stepson, or Stepdaughter of Passenger Aboard Titanic\n",
    "###### Ticket -->  Ticket Number\n",
    "###### Fare --> fare            Passenger Fare\n",
    "###### Cabin \n",
    "###### Embarked --> embarked        Port of Embarkation\n",
    "######            (C = Cherbourg; Q = Queenstown; S = Southampton) "
   ]
  },
  {
   "cell_type": "markdown",
   "metadata": {},
   "source": [
    "# 1.loading csv file"
   ]
  },
  {
   "cell_type": "code",
   "execution_count": 1,
   "metadata": {
    "collapsed": false
   },
   "outputs": [
    {
     "name": "stdout",
     "output_type": "stream",
     "text": [
      "total no of passenger=891\n"
     ]
    },
    {
     "data": {
      "text/html": [
       "<div>\n",
       "<table border=\"1\" class=\"dataframe\">\n",
       "  <thead>\n",
       "    <tr style=\"text-align: right;\">\n",
       "      <th></th>\n",
       "      <th>PassengerId</th>\n",
       "      <th>Survived</th>\n",
       "      <th>Pclass</th>\n",
       "      <th>Name</th>\n",
       "      <th>Sex</th>\n",
       "      <th>Age</th>\n",
       "      <th>SibSp</th>\n",
       "      <th>Parch</th>\n",
       "      <th>Ticket</th>\n",
       "      <th>Fare</th>\n",
       "      <th>Cabin</th>\n",
       "      <th>Embarked</th>\n",
       "    </tr>\n",
       "  </thead>\n",
       "  <tbody>\n",
       "    <tr>\n",
       "      <th>0</th>\n",
       "      <td>1</td>\n",
       "      <td>0</td>\n",
       "      <td>3</td>\n",
       "      <td>Braund, Mr. Owen Harris</td>\n",
       "      <td>male</td>\n",
       "      <td>22.0</td>\n",
       "      <td>1</td>\n",
       "      <td>0</td>\n",
       "      <td>A/5 21171</td>\n",
       "      <td>7.2500</td>\n",
       "      <td>NaN</td>\n",
       "      <td>S</td>\n",
       "    </tr>\n",
       "    <tr>\n",
       "      <th>1</th>\n",
       "      <td>2</td>\n",
       "      <td>1</td>\n",
       "      <td>1</td>\n",
       "      <td>Cumings, Mrs. John Bradley (Florence Briggs Th...</td>\n",
       "      <td>female</td>\n",
       "      <td>38.0</td>\n",
       "      <td>1</td>\n",
       "      <td>0</td>\n",
       "      <td>PC 17599</td>\n",
       "      <td>71.2833</td>\n",
       "      <td>C85</td>\n",
       "      <td>C</td>\n",
       "    </tr>\n",
       "    <tr>\n",
       "      <th>2</th>\n",
       "      <td>3</td>\n",
       "      <td>1</td>\n",
       "      <td>3</td>\n",
       "      <td>Heikkinen, Miss. Laina</td>\n",
       "      <td>female</td>\n",
       "      <td>26.0</td>\n",
       "      <td>0</td>\n",
       "      <td>0</td>\n",
       "      <td>STON/O2. 3101282</td>\n",
       "      <td>7.9250</td>\n",
       "      <td>NaN</td>\n",
       "      <td>S</td>\n",
       "    </tr>\n",
       "    <tr>\n",
       "      <th>3</th>\n",
       "      <td>4</td>\n",
       "      <td>1</td>\n",
       "      <td>1</td>\n",
       "      <td>Futrelle, Mrs. Jacques Heath (Lily May Peel)</td>\n",
       "      <td>female</td>\n",
       "      <td>35.0</td>\n",
       "      <td>1</td>\n",
       "      <td>0</td>\n",
       "      <td>113803</td>\n",
       "      <td>53.1000</td>\n",
       "      <td>C123</td>\n",
       "      <td>S</td>\n",
       "    </tr>\n",
       "    <tr>\n",
       "      <th>4</th>\n",
       "      <td>5</td>\n",
       "      <td>0</td>\n",
       "      <td>3</td>\n",
       "      <td>Allen, Mr. William Henry</td>\n",
       "      <td>male</td>\n",
       "      <td>35.0</td>\n",
       "      <td>0</td>\n",
       "      <td>0</td>\n",
       "      <td>373450</td>\n",
       "      <td>8.0500</td>\n",
       "      <td>NaN</td>\n",
       "      <td>S</td>\n",
       "    </tr>\n",
       "  </tbody>\n",
       "</table>\n",
       "</div>"
      ],
      "text/plain": [
       "   PassengerId  Survived  Pclass  \\\n",
       "0            1         0       3   \n",
       "1            2         1       1   \n",
       "2            3         1       3   \n",
       "3            4         1       1   \n",
       "4            5         0       3   \n",
       "\n",
       "                                                Name     Sex   Age  SibSp  \\\n",
       "0                            Braund, Mr. Owen Harris    male  22.0      1   \n",
       "1  Cumings, Mrs. John Bradley (Florence Briggs Th...  female  38.0      1   \n",
       "2                             Heikkinen, Miss. Laina  female  26.0      0   \n",
       "3       Futrelle, Mrs. Jacques Heath (Lily May Peel)  female  35.0      1   \n",
       "4                           Allen, Mr. William Henry    male  35.0      0   \n",
       "\n",
       "   Parch            Ticket     Fare Cabin Embarked  \n",
       "0      0         A/5 21171   7.2500   NaN        S  \n",
       "1      0          PC 17599  71.2833   C85        C  \n",
       "2      0  STON/O2. 3101282   7.9250   NaN        S  \n",
       "3      0            113803  53.1000  C123        S  \n",
       "4      0            373450   8.0500   NaN        S  "
      ]
     },
     "execution_count": 1,
     "metadata": {},
     "output_type": "execute_result"
    }
   ],
   "source": [
    "import pandas as pd\n",
    "filename='C:/Users/Admin-pc/Downloads/titanic-data.csv'\n",
    "dataset=pd.read_csv(filename)\n",
    "#calculate total no of passenger\n",
    "total_no_passenger=len(dataset)\n",
    "print 'total no of passenger={}'.format(total_no_passenger)\n",
    "dataset.head()\n"
   ]
  },
  {
   "cell_type": "code",
   "execution_count": 2,
   "metadata": {
    "collapsed": false,
    "scrolled": true
   },
   "outputs": [
    {
     "data": {
      "text/html": [
       "<div>\n",
       "<table border=\"1\" class=\"dataframe\">\n",
       "  <thead>\n",
       "    <tr style=\"text-align: right;\">\n",
       "      <th></th>\n",
       "      <th>PassengerId</th>\n",
       "      <th>Survived</th>\n",
       "      <th>Pclass</th>\n",
       "      <th>Name</th>\n",
       "      <th>Sex</th>\n",
       "      <th>Age</th>\n",
       "      <th>SibSp</th>\n",
       "      <th>Parch</th>\n",
       "      <th>Ticket</th>\n",
       "      <th>Fare</th>\n",
       "      <th>Cabin</th>\n",
       "      <th>Embarked</th>\n",
       "    </tr>\n",
       "  </thead>\n",
       "  <tbody>\n",
       "    <tr>\n",
       "      <th>1</th>\n",
       "      <td>2</td>\n",
       "      <td>1</td>\n",
       "      <td>1</td>\n",
       "      <td>Cumings, Mrs. John Bradley (Florence Briggs Th...</td>\n",
       "      <td>female</td>\n",
       "      <td>38.0</td>\n",
       "      <td>1</td>\n",
       "      <td>0</td>\n",
       "      <td>PC 17599</td>\n",
       "      <td>71.2833</td>\n",
       "      <td>C85</td>\n",
       "      <td>C</td>\n",
       "    </tr>\n",
       "    <tr>\n",
       "      <th>3</th>\n",
       "      <td>4</td>\n",
       "      <td>1</td>\n",
       "      <td>1</td>\n",
       "      <td>Futrelle, Mrs. Jacques Heath (Lily May Peel)</td>\n",
       "      <td>female</td>\n",
       "      <td>35.0</td>\n",
       "      <td>1</td>\n",
       "      <td>0</td>\n",
       "      <td>113803</td>\n",
       "      <td>53.1000</td>\n",
       "      <td>C123</td>\n",
       "      <td>S</td>\n",
       "    </tr>\n",
       "    <tr>\n",
       "      <th>6</th>\n",
       "      <td>7</td>\n",
       "      <td>0</td>\n",
       "      <td>1</td>\n",
       "      <td>McCarthy, Mr. Timothy J</td>\n",
       "      <td>male</td>\n",
       "      <td>54.0</td>\n",
       "      <td>0</td>\n",
       "      <td>0</td>\n",
       "      <td>17463</td>\n",
       "      <td>51.8625</td>\n",
       "      <td>E46</td>\n",
       "      <td>S</td>\n",
       "    </tr>\n",
       "    <tr>\n",
       "      <th>10</th>\n",
       "      <td>11</td>\n",
       "      <td>1</td>\n",
       "      <td>3</td>\n",
       "      <td>Sandstrom, Miss. Marguerite Rut</td>\n",
       "      <td>female</td>\n",
       "      <td>4.0</td>\n",
       "      <td>1</td>\n",
       "      <td>1</td>\n",
       "      <td>PP 9549</td>\n",
       "      <td>16.7000</td>\n",
       "      <td>G6</td>\n",
       "      <td>S</td>\n",
       "    </tr>\n",
       "    <tr>\n",
       "      <th>11</th>\n",
       "      <td>12</td>\n",
       "      <td>1</td>\n",
       "      <td>1</td>\n",
       "      <td>Bonnell, Miss. Elizabeth</td>\n",
       "      <td>female</td>\n",
       "      <td>58.0</td>\n",
       "      <td>0</td>\n",
       "      <td>0</td>\n",
       "      <td>113783</td>\n",
       "      <td>26.5500</td>\n",
       "      <td>C103</td>\n",
       "      <td>S</td>\n",
       "    </tr>\n",
       "  </tbody>\n",
       "</table>\n",
       "</div>"
      ],
      "text/plain": [
       "    PassengerId  Survived  Pclass  \\\n",
       "1             2         1       1   \n",
       "3             4         1       1   \n",
       "6             7         0       1   \n",
       "10           11         1       3   \n",
       "11           12         1       1   \n",
       "\n",
       "                                                 Name     Sex   Age  SibSp  \\\n",
       "1   Cumings, Mrs. John Bradley (Florence Briggs Th...  female  38.0      1   \n",
       "3        Futrelle, Mrs. Jacques Heath (Lily May Peel)  female  35.0      1   \n",
       "6                             McCarthy, Mr. Timothy J    male  54.0      0   \n",
       "10                    Sandstrom, Miss. Marguerite Rut  female   4.0      1   \n",
       "11                           Bonnell, Miss. Elizabeth  female  58.0      0   \n",
       "\n",
       "    Parch    Ticket     Fare Cabin Embarked  \n",
       "1       0  PC 17599  71.2833   C85        C  \n",
       "3       0    113803  53.1000  C123        S  \n",
       "6       0     17463  51.8625   E46        S  \n",
       "10      1   PP 9549  16.7000    G6        S  \n",
       "11      0    113783  26.5500  C103        S  "
      ]
     },
     "execution_count": 2,
     "metadata": {},
     "output_type": "execute_result"
    }
   ],
   "source": [
    "#to drop the row which have missing values\n",
    "new_dataset = dataset.dropna()\n",
    "new_dataset.head()\n"
   ]
  },
  {
   "cell_type": "code",
   "execution_count": null,
   "metadata": {
    "collapsed": false,
    "scrolled": true
   },
   "outputs": [],
   "source": []
  },
  {
   "cell_type": "code",
   "execution_count": null,
   "metadata": {
    "collapsed": true
   },
   "outputs": [],
   "source": []
  },
  {
   "cell_type": "code",
   "execution_count": 3,
   "metadata": {
    "collapsed": false,
    "scrolled": false
   },
   "outputs": [
    {
     "name": "stderr",
     "output_type": "stream",
     "text": [
      "C:\\Users\\Admin-pc\\anaconda\\lib\\site-packages\\numpy\\lib\\function_base.py:3834: RuntimeWarning: Invalid value encountered in percentile\n",
      "  RuntimeWarning)\n"
     ]
    },
    {
     "data": {
      "text/html": [
       "<div>\n",
       "<table border=\"1\" class=\"dataframe\">\n",
       "  <thead>\n",
       "    <tr style=\"text-align: right;\">\n",
       "      <th></th>\n",
       "      <th>PassengerId</th>\n",
       "      <th>Survived</th>\n",
       "      <th>Pclass</th>\n",
       "      <th>Age</th>\n",
       "      <th>SibSp</th>\n",
       "      <th>Parch</th>\n",
       "      <th>Fare</th>\n",
       "    </tr>\n",
       "  </thead>\n",
       "  <tbody>\n",
       "    <tr>\n",
       "      <th>count</th>\n",
       "      <td>891.000000</td>\n",
       "      <td>891.000000</td>\n",
       "      <td>891.000000</td>\n",
       "      <td>714.000000</td>\n",
       "      <td>891.000000</td>\n",
       "      <td>891.000000</td>\n",
       "      <td>891.000000</td>\n",
       "    </tr>\n",
       "    <tr>\n",
       "      <th>mean</th>\n",
       "      <td>446.000000</td>\n",
       "      <td>0.383838</td>\n",
       "      <td>2.308642</td>\n",
       "      <td>29.699118</td>\n",
       "      <td>0.523008</td>\n",
       "      <td>0.381594</td>\n",
       "      <td>32.204208</td>\n",
       "    </tr>\n",
       "    <tr>\n",
       "      <th>std</th>\n",
       "      <td>257.353842</td>\n",
       "      <td>0.486592</td>\n",
       "      <td>0.836071</td>\n",
       "      <td>14.526497</td>\n",
       "      <td>1.102743</td>\n",
       "      <td>0.806057</td>\n",
       "      <td>49.693429</td>\n",
       "    </tr>\n",
       "    <tr>\n",
       "      <th>min</th>\n",
       "      <td>1.000000</td>\n",
       "      <td>0.000000</td>\n",
       "      <td>1.000000</td>\n",
       "      <td>0.420000</td>\n",
       "      <td>0.000000</td>\n",
       "      <td>0.000000</td>\n",
       "      <td>0.000000</td>\n",
       "    </tr>\n",
       "    <tr>\n",
       "      <th>25%</th>\n",
       "      <td>223.500000</td>\n",
       "      <td>0.000000</td>\n",
       "      <td>2.000000</td>\n",
       "      <td>NaN</td>\n",
       "      <td>0.000000</td>\n",
       "      <td>0.000000</td>\n",
       "      <td>7.910400</td>\n",
       "    </tr>\n",
       "    <tr>\n",
       "      <th>50%</th>\n",
       "      <td>446.000000</td>\n",
       "      <td>0.000000</td>\n",
       "      <td>3.000000</td>\n",
       "      <td>NaN</td>\n",
       "      <td>0.000000</td>\n",
       "      <td>0.000000</td>\n",
       "      <td>14.454200</td>\n",
       "    </tr>\n",
       "    <tr>\n",
       "      <th>75%</th>\n",
       "      <td>668.500000</td>\n",
       "      <td>1.000000</td>\n",
       "      <td>3.000000</td>\n",
       "      <td>NaN</td>\n",
       "      <td>1.000000</td>\n",
       "      <td>0.000000</td>\n",
       "      <td>31.000000</td>\n",
       "    </tr>\n",
       "    <tr>\n",
       "      <th>max</th>\n",
       "      <td>891.000000</td>\n",
       "      <td>1.000000</td>\n",
       "      <td>3.000000</td>\n",
       "      <td>80.000000</td>\n",
       "      <td>8.000000</td>\n",
       "      <td>6.000000</td>\n",
       "      <td>512.329200</td>\n",
       "    </tr>\n",
       "  </tbody>\n",
       "</table>\n",
       "</div>"
      ],
      "text/plain": [
       "       PassengerId    Survived      Pclass         Age       SibSp  \\\n",
       "count   891.000000  891.000000  891.000000  714.000000  891.000000   \n",
       "mean    446.000000    0.383838    2.308642   29.699118    0.523008   \n",
       "std     257.353842    0.486592    0.836071   14.526497    1.102743   \n",
       "min       1.000000    0.000000    1.000000    0.420000    0.000000   \n",
       "25%     223.500000    0.000000    2.000000         NaN    0.000000   \n",
       "50%     446.000000    0.000000    3.000000         NaN    0.000000   \n",
       "75%     668.500000    1.000000    3.000000         NaN    1.000000   \n",
       "max     891.000000    1.000000    3.000000   80.000000    8.000000   \n",
       "\n",
       "            Parch        Fare  \n",
       "count  891.000000  891.000000  \n",
       "mean     0.381594   32.204208  \n",
       "std      0.806057   49.693429  \n",
       "min      0.000000    0.000000  \n",
       "25%      0.000000    7.910400  \n",
       "50%      0.000000   14.454200  \n",
       "75%      0.000000   31.000000  \n",
       "max      6.000000  512.329200  "
      ]
     },
     "execution_count": 3,
     "metadata": {},
     "output_type": "execute_result"
    }
   ],
   "source": [
    "#describe the dataset\n",
    "dataset.describe()\n"
   ]
  },
  {
   "cell_type": "markdown",
   "metadata": {},
   "source": [
    "##### from above we can depict many information about passenger such as\n",
    "** maximum age of passenger is 80 and mean age is abot 30 year **\n",
    "\n",
    "**maximum fare of ticket is 512 and minimum is o and average is 32 **\n"
   ]
  },
  {
   "cell_type": "markdown",
   "metadata": {},
   "source": [
    "# 2.data wrangling phase"
   ]
  },
  {
   "cell_type": "code",
   "execution_count": 4,
   "metadata": {
    "collapsed": false
   },
   "outputs": [
    {
     "name": "stdout",
     "output_type": "stream",
     "text": [
      "total no of missing value=708\n",
      "percentage of missing data=79.4612794613\n"
     ]
    }
   ],
   "source": [
    "#calculate total no of missing values row\n",
    "total_no_missing=total_no_passenger-len(new_dataset)\n",
    "print 'total no of missing value={}'.format(total_no_missing)\n",
    "percentage_of_missing_data= (total_no_missing*1.0/total_no_passenger*1.0)*100\n",
    "print 'percentage of missing data={}'.format(percentage_of_missing_data)"
   ]
  },
  {
   "cell_type": "markdown",
   "metadata": {
    "collapsed": false
   },
   "source": [
    "## out 891 ,708 rows have missing value ,that is perecentage of missing value is 79%"
   ]
  },
  {
   "cell_type": "code",
   "execution_count": 5,
   "metadata": {
    "collapsed": false
   },
   "outputs": [
    {
     "name": "stdout",
     "output_type": "stream",
     "text": [
      "<class 'pandas.core.frame.DataFrame'>\n",
      "RangeIndex: 891 entries, 0 to 890\n",
      "Data columns (total 12 columns):\n",
      "PassengerId    891 non-null int64\n",
      "Survived       891 non-null int64\n",
      "Pclass         891 non-null int64\n",
      "Name           891 non-null object\n",
      "Sex            891 non-null object\n",
      "Age            714 non-null float64\n",
      "SibSp          891 non-null int64\n",
      "Parch          891 non-null int64\n",
      "Ticket         891 non-null object\n",
      "Fare           891 non-null float64\n",
      "Cabin          204 non-null object\n",
      "Embarked       889 non-null object\n",
      "dtypes: float64(2), int64(5), object(5)\n",
      "memory usage: 83.6+ KB\n"
     ]
    }
   ],
   "source": [
    "dataset.info()"
   ]
  },
  {
   "cell_type": "markdown",
   "metadata": {},
   "source": [
    "## mainly data missing is in cabin column ,out of 708 rows of missing value 687 missing value is alone from cabin column. but It is not going to affect the analysis much because this investigation has no dealing with cabin data ."
   ]
  },
  {
   "cell_type": "markdown",
   "metadata": {},
   "source": [
    "# 2.1 data cleaning :-"
   ]
  },
  {
   "cell_type": "markdown",
   "metadata": {},
   "source": [
    "###  2.1.a.Removing unwanted column\n"
   ]
  },
  {
   "cell_type": "markdown",
   "metadata": {},
   "source": [
    "** removing unwanted column just increase the execution speed and save time **"
   ]
  },
  {
   "cell_type": "code",
   "execution_count": 6,
   "metadata": {
    "collapsed": false
   },
   "outputs": [
    {
     "name": "stdout",
     "output_type": "stream",
     "text": [
      "<class 'pandas.core.frame.DataFrame'>\n",
      "RangeIndex: 891 entries, 0 to 890\n",
      "Data columns (total 8 columns):\n",
      "PassengerId    891 non-null int64\n",
      "Survived       891 non-null int64\n",
      "Pclass         891 non-null int64\n",
      "Sex            891 non-null object\n",
      "Age            714 non-null float64\n",
      "SibSp          891 non-null int64\n",
      "Parch          891 non-null int64\n",
      "Fare           891 non-null float64\n",
      "dtypes: float64(2), int64(5), object(1)\n",
      "memory usage: 55.8+ KB\n"
     ]
    }
   ],
   "source": [
    "dataset = dataset.drop(['Cabin','Name','Ticket','Embarked'], axis=1)\n",
    "dataset.info()"
   ]
  },
  {
   "cell_type": "markdown",
   "metadata": {},
   "source": [
    "## 2.1.b dealing with missing age value"
   ]
  },
  {
   "cell_type": "markdown",
   "metadata": {},
   "source": [
    "in order to fill the missing values in the dataset, i will use age mean to fill that missing value"
   ]
  },
  {
   "cell_type": "code",
   "execution_count": 7,
   "metadata": {
    "collapsed": false
   },
   "outputs": [
    {
     "name": "stdout",
     "output_type": "stream",
     "text": [
      "Sex     Pclass\n",
      "female  1         34.611765\n",
      "        2         28.722973\n",
      "        3         21.750000\n",
      "male    1         41.281386\n",
      "        2         30.740707\n",
      "        3         26.507589\n",
      "Name: Age, dtype: float64\n"
     ]
    }
   ],
   "source": [
    "#determine mean age based on sex  and pclass\n",
    "mean_age = dataset.groupby(['Sex','Pclass'])['Age'].mean()\n",
    "\n",
    "print mean_age\n",
    "\n",
    "def remove_missing_age(row):\n",
    "    if pd.isnull(row['Age']):\n",
    "        return mean_age[row['Sex'],row['Pclass']]\n",
    "    else:\n",
    "        return row['Age']\n",
    "dataset['Age']=dataset.apply(remove_missing_age,axis=1)\n"
   ]
  },
  {
   "cell_type": "code",
   "execution_count": 8,
   "metadata": {
    "collapsed": false
   },
   "outputs": [
    {
     "name": "stdout",
     "output_type": "stream",
     "text": [
      "<class 'pandas.core.frame.DataFrame'>\n",
      "RangeIndex: 891 entries, 0 to 890\n",
      "Data columns (total 8 columns):\n",
      "PassengerId    891 non-null int64\n",
      "Survived       891 non-null int64\n",
      "Pclass         891 non-null int64\n",
      "Sex            891 non-null object\n",
      "Age            891 non-null float64\n",
      "SibSp          891 non-null int64\n",
      "Parch          891 non-null int64\n",
      "Fare           891 non-null float64\n",
      "dtypes: float64(2), int64(5), object(1)\n",
      "memory usage: 55.8+ KB\n"
     ]
    }
   ],
   "source": [
    "dataset.info()"
   ]
  },
  {
   "cell_type": "markdown",
   "metadata": {},
   "source": [
    "### now dataset is ready for analysis process there are no missing values now because age missing values is filled with mean age"
   ]
  },
  {
   "cell_type": "markdown",
   "metadata": {},
   "source": [
    "# 3. analysis phase and visualisation"
   ]
  },
  {
   "cell_type": "code",
   "execution_count": 9,
   "metadata": {
    "collapsed": false
   },
   "outputs": [
    {
     "name": "stdout",
     "output_type": "stream",
     "text": [
      "Total no of men passenger=577\n",
      "Total no of female passenger=314\n",
      "percentage of male=64.758698092\n",
      "percentage of female=35.241301908\n"
     ]
    }
   ],
   "source": [
    "#finding no of male passenger and female passenger\n",
    "total_no_male=len(dataset[dataset['Sex']=='male'])\n",
    "print 'Total no of men passenger={}'.format(total_no_male)\n",
    "total_no_female=len(dataset[dataset['Sex']=='female'])\n",
    "print 'Total no of female passenger={}'.format(total_no_female)\n",
    "percent_male=(total_no_male*1.0/total_no_passenger)*100\n",
    "percent_female=(total_no_female*1.0/total_no_passenger*1.0)*100\n",
    "print 'percentage of male={}'.format(percent_male)\n",
    "print 'percentage of female={}'.format(percent_female)\n",
    "\n"
   ]
  },
  {
   "cell_type": "code",
   "execution_count": 10,
   "metadata": {
    "collapsed": false,
    "slideshow": {
     "slide_type": "-"
    }
   },
   "outputs": [
    {
     "name": "stdout",
     "output_type": "stream",
     "text": [
      "Populating the interactive namespace from numpy and matplotlib\n"
     ]
    },
    {
     "data": {
      "image/png": "[encoded data removed]",
      "text/plain": [
       "<matplotlib.figure.Figure at 0x853bdd8>"
      ]
     },
     "metadata": {},
     "output_type": "display_data"
    }
   ],
   "source": [
    "%pylab inline\n",
    "\n",
    "import numpy as np\n",
    "import matplotlib.pyplot as plt\n",
    "\n",
    "object1=('male','female')\n",
    "\n",
    "percentage=[percent_male,percent_female]\n",
    "\n",
    "def plotbar(object1,percentage,ylabel,a,color_name,title_of_bar):\n",
    "    y_pos=np.arange(len(object1))\n",
    "    plt.bar(y_pos,percentage,align='center',alpha=a,color=color_name)\n",
    "    plt.xticks(y_pos,object1)\n",
    "    plt.ylabel(ylabel)\n",
    "    plt.title(title_of_bar)\n",
    "    plt.show()\n",
    "plotbar(object1,percentage,'percentages',0.7,'r','percentage of male and female')"
   ]
  },
  {
   "cell_type": "markdown",
   "metadata": {},
   "source": [
    "** percentage of male passenger is more compare to female **"
   ]
  },
  {
   "cell_type": "code",
   "execution_count": 11,
   "metadata": {
    "collapsed": false
   },
   "outputs": [
    {
     "name": "stdout",
     "output_type": "stream",
     "text": [
      "total no of passenger survived=342\n",
      "total no of male survived=109\n",
      "total no of female survived=233\n",
      "percentege of passenger who survived=38.3838383838\n",
      "percentage of male who survived=18.8908145581\n",
      "percentage of female who survived=74.2038216561\n"
     ]
    }
   ],
   "source": [
    "#finding who survived\n",
    "# finding total no of male who survived\n",
    "total_no_male_survived=len(dataset[(dataset['Sex']=='male') & (dataset['Survived']==1)])\n",
    "#finding total no of female who survived\n",
    "total_no_female_survived=len(dataset[(dataset['Sex']=='female')&(dataset['Survived']==1)])\n",
    "#total no of passenger survived \n",
    "total_no_passenger_survived=len(dataset[dataset['Survived']==1])\n",
    "\n",
    "print 'total no of passenger survived={}'.format(total_no_passenger_survived)\n",
    "\n",
    "\n",
    "print 'total no of male survived={}'.format(total_no_male_survived)\n",
    "print 'total no of female survived={}'.format(total_no_female_survived)\n",
    "#calculating percentage of male who survived   \n",
    "percent_male_survived=(total_no_male_survived*1.0/total_no_male)*100\n",
    "#calculating percentage of female who survived\n",
    "percent_female_survived=(total_no_female_survived*1.0/total_no_female)*100\n",
    "#calculatng percentage of passenger who survived\n",
    "total_no_passenger=len(dataset)\n",
    "percent_passenger_survived=(total_no_passenger_survived*1.0/total_no_passenger)*100\n",
    "\n",
    "print 'percentege of passenger who survived={}'.format(percent_passenger_survived)\n",
    "print 'percentage of male who survived={}'.format(percent_male_survived)\n",
    "print 'percentage of female who survived={}'.format(percent_female_survived)"
   ]
  },
  {
   "cell_type": "code",
   "execution_count": 12,
   "metadata": {
    "collapsed": false
   },
   "outputs": [
    {
     "name": "stdout",
     "output_type": "stream",
     "text": [
      "Populating the interactive namespace from numpy and matplotlib\n"
     ]
    },
    {
     "data": {
      "image/png": "[encoded data removed]",
      "text/plain": [
       "<matplotlib.figure.Figure at 0x839d9e8>"
      ]
     },
     "metadata": {},
     "output_type": "display_data"
    }
   ],
   "source": [
    "%pylab inline\n",
    "object2=('male','female','passenger')\n",
    "percentage2=[percent_male_survived,percent_female_survived,percent_passenger_survived]\n",
    "\n",
    "\n",
    "plotbar(object2,percentage2,'percentages',0.8,'g','percentage of male and female and passenger who survived')"
   ]
  },
  {
   "cell_type": "markdown",
   "metadata": {},
   "source": [
    "** percentage of female survival was more compare to male and overall survival rate **\n",
    "#### offcourses male follow the rule women first means male given more chance to female for surviving "
   ]
  },
  {
   "cell_type": "markdown",
   "metadata": {},
   "source": [
    "## how age affect survival rate\n",
    "#### child=(age=<18\n",
    "#### adult=(age>18 & age<60)\n",
    "#### senior citizen=(age>=60)"
   ]
  },
  {
   "cell_type": "markdown",
   "metadata": {},
   "source": [
    "\n"
   ]
  },
  {
   "cell_type": "code",
   "execution_count": 13,
   "metadata": {
    "collapsed": false
   },
   "outputs": [
    {
     "name": "stdout",
     "output_type": "stream",
     "text": [
      "<class 'pandas.core.frame.DataFrame'>\n",
      "RangeIndex: 891 entries, 0 to 890\n",
      "Data columns (total 1 columns):\n",
      "Age    891 non-null float64\n",
      "dtypes: float64(1)\n",
      "memory usage: 7.0 KB\n"
     ]
    }
   ],
   "source": [
    "pd.DataFrame(dataset['Age']).info()"
   ]
  },
  {
   "cell_type": "markdown",
   "metadata": {},
   "source": [
    "## there is no missing value in the dataset so it can analysed easily"
   ]
  },
  {
   "cell_type": "code",
   "execution_count": 14,
   "metadata": {
    "collapsed": false
   },
   "outputs": [
    {
     "name": "stdout",
     "output_type": "stream",
     "text": [
      "no of childen in passenger list=139\n",
      "no of adult in passenger list=726\n",
      "no of senior citizen in passenger list=26\n"
     ]
    }
   ],
   "source": [
    "#survival rate of passenger with respect to their age\n",
    "#child= age=<18\n",
    "#adult=age>18 & age<60\n",
    "#senior citizen=age>=60\n",
    "#no of children in passenger list\n",
    "no_child=len(dataset[dataset['Age']<=18])\n",
    "#no of adult\n",
    "no_adult=len(dataset[(dataset['Age']>18) & (dataset['Age']<60)])\n",
    "#no of senior citizen\n",
    "no_senior_citizen=len(dataset[dataset['Age']>=60])\n",
    "\n",
    "print 'no of childen in passenger list={}'.format(no_child)\n",
    "print 'no of adult in passenger list={}'.format(no_adult)\n",
    "print 'no of senior citizen in passenger list={}'.format(no_senior_citizen)"
   ]
  },
  {
   "cell_type": "code",
   "execution_count": 15,
   "metadata": {
    "collapsed": false
   },
   "outputs": [
    {
     "data": {
      "image/png": "[encoded data removed]",
      "text/plain": [
       "<matplotlib.figure.Figure at 0x937a4a8>"
      ]
     },
     "metadata": {},
     "output_type": "display_data"
    }
   ],
   "source": [
    "object3=('children','adults','senior citizen')\n",
    "age=[no_child,no_adult,no_senior_citizen]\n",
    "plotbar(object3,age,'no of passenger',0.8,'b','distribution of passenger')"
   ]
  },
  {
   "cell_type": "markdown",
   "metadata": {},
   "source": [
    "** no of adult was more compare to children and senior citizen **"
   ]
  },
  {
   "cell_type": "code",
   "execution_count": 16,
   "metadata": {
    "collapsed": false
   },
   "outputs": [
    {
     "name": "stdout",
     "output_type": "stream",
     "text": [
      "percentage of children= 15.6004489338\n",
      "percentage of adult= 81.4814814815\n",
      "percentage of senior citizen=2.91806958474\n"
     ]
    }
   ],
   "source": [
    "#find percentage of children,adult,senior citizen\n",
    "percent_no_child=(no_child*1.0/total_no_passenger)*100\n",
    "percent_no_adult=(no_adult*1.0/total_no_passenger)*100\n",
    "percent_no_senior_citizen=(no_senior_citizen*1.0/total_no_passenger)*100\n",
    "\n",
    "print 'percentage of children= {}'.format(percent_no_child)\n",
    "print 'percentage of adult= {}'.format(percent_no_adult)\n",
    "print 'percentage of senior citizen={}'.format(percent_no_senior_citizen)"
   ]
  },
  {
   "cell_type": "code",
   "execution_count": 17,
   "metadata": {
    "collapsed": false
   },
   "outputs": [
    {
     "data": {
      "image/png": "[encoded data removed]",
      "text/plain": [
       "<matplotlib.figure.Figure at 0x95ece80>"
      ]
     },
     "metadata": {},
     "output_type": "display_data"
    }
   ],
   "source": [
    "percentage3=[percent_no_child,percent_no_adult,percent_no_senior_citizen]\n",
    "plotbar(object3,percentage3,'perecntage of passenger',0.8,'b','perecentage of passenger')"
   ]
  },
  {
   "cell_type": "markdown",
   "metadata": {
    "collapsed": false
   },
   "source": [
    "** percentage of adult was more compare to children and senior citizen **\n"
   ]
  },
  {
   "cell_type": "code",
   "execution_count": 18,
   "metadata": {
    "collapsed": false
   },
   "outputs": [
    {
     "name": "stdout",
     "output_type": "stream",
     "text": [
      "no of children survived=70\n",
      "no of adults survived=265\n",
      "no of senior citizen survived=7\n",
      "percentage of children who survived=50.3597122302\n",
      "percentage of adults who survived=36.5013774105\n",
      "percentage of senior citizen=26.9230769231\n"
     ]
    }
   ],
   "source": [
    "#finding no of children survived\n",
    "no_child_survived=len(dataset[(dataset['Age']<=18) & (dataset['Survived']==1)])\n",
    "\n",
    "#finding no of adult survived\n",
    "no_adult_survived=len(dataset[(dataset['Age']>18)&(dataset['Age']<60) & (dataset['Survived']==1)])\n",
    "\n",
    "#finding no senior citizen servived\n",
    "no_senior_citizen_survived=len(dataset[(dataset['Age']>=60) &(dataset['Survived']==1)])\n",
    "\n",
    "print 'no of children survived={}'.format(no_child_survived)\n",
    "print 'no of adults survived={}'.format(no_adult_survived)\n",
    "print 'no of senior citizen survived={}'.format(no_senior_citizen_survived)\n",
    "\n",
    "#percenatge of children survived\n",
    "percent_child_survived=(no_child_survived*1.0/no_child)*100\n",
    "#percentage of adult survived\n",
    "percent_adult_survived=(no_adult_survived*1.0/no_adult)*100\n",
    "#percentage of senior citizen\n",
    "percent_senior_citizen_survived=(no_senior_citizen_survived*1.0/no_senior_citizen)*100\n",
    "\n",
    "print 'percentage of children who survived={}'.format(percent_child_survived)\n",
    "print 'percentage of adults who survived={}'.format(percent_adult_survived)\n",
    "print 'percentage of senior citizen={}'.format(percent_senior_citizen_survived)\n",
    "\n",
    "\n"
   ]
  },
  {
   "cell_type": "code",
   "execution_count": 19,
   "metadata": {
    "collapsed": false
   },
   "outputs": [
    {
     "data": {
      "image/png": "[encoded data removed]",
      "text/plain": [
       "<matplotlib.figure.Figure at 0x98294e0>"
      ]
     },
     "metadata": {},
     "output_type": "display_data"
    }
   ],
   "source": [
    "object4=('children','adult','senior citizen')\n",
    "\n",
    "percentage4=[percent_child_survived,percent_adult_survived,percent_senior_citizen_survived]\n",
    "plotbar(object4,percentage4,'percentage',0.8,'g','percenatge of children,adult and older people who survived')"
   ]
  },
  {
   "cell_type": "markdown",
   "metadata": {},
   "source": [
    "## maximum passenger wanted children to abroaded first"
   ]
  },
  {
   "cell_type": "markdown",
   "metadata": {},
   "source": [
    "** children survived more compare to adult and senior citizen **\n",
    "\n",
    "** adult survived more compare to senior citizen **"
   ]
  },
  {
   "cell_type": "code",
   "execution_count": 20,
   "metadata": {
    "collapsed": false
   },
   "outputs": [
    {
     "data": {
      "text/html": [
       "<div>\n",
       "<table border=\"1\" class=\"dataframe\">\n",
       "  <thead>\n",
       "    <tr style=\"text-align: right;\">\n",
       "      <th></th>\n",
       "      <th>Survived</th>\n",
       "    </tr>\n",
       "    <tr>\n",
       "      <th>age group</th>\n",
       "      <th></th>\n",
       "    </tr>\n",
       "  </thead>\n",
       "  <tbody>\n",
       "    <tr>\n",
       "      <th>(0, 10]</th>\n",
       "      <td>0.593750</td>\n",
       "    </tr>\n",
       "    <tr>\n",
       "      <th>(10, 20]</th>\n",
       "      <td>0.382609</td>\n",
       "    </tr>\n",
       "    <tr>\n",
       "      <th>(20, 30]</th>\n",
       "      <td>0.326087</td>\n",
       "    </tr>\n",
       "    <tr>\n",
       "      <th>(30, 40]</th>\n",
       "      <td>0.462428</td>\n",
       "    </tr>\n",
       "    <tr>\n",
       "      <th>(40, 50]</th>\n",
       "      <td>0.355140</td>\n",
       "    </tr>\n",
       "    <tr>\n",
       "      <th>(50, 60]</th>\n",
       "      <td>0.404762</td>\n",
       "    </tr>\n",
       "    <tr>\n",
       "      <th>(60, 70]</th>\n",
       "      <td>0.235294</td>\n",
       "    </tr>\n",
       "    <tr>\n",
       "      <th>(70, 80]</th>\n",
       "      <td>0.200000</td>\n",
       "    </tr>\n",
       "  </tbody>\n",
       "</table>\n",
       "</div>"
      ],
      "text/plain": [
       "           Survived\n",
       "age group          \n",
       "(0, 10]    0.593750\n",
       "(10, 20]   0.382609\n",
       "(20, 30]   0.326087\n",
       "(30, 40]   0.462428\n",
       "(40, 50]   0.355140\n",
       "(50, 60]   0.404762\n",
       "(60, 70]   0.235294\n",
       "(70, 80]   0.200000"
      ]
     },
     "execution_count": 20,
     "metadata": {},
     "output_type": "execute_result"
    }
   ],
   "source": [
    "\n",
    "\n",
    "dataset['age group']=pd.cut(dataset['Age'],bins=[0,10,20,30,40,50,60,70,80])\n",
    "dataset.groupby(['age group'])[['Survived']].mean()\n",
    "\n",
    "\n",
    "\n",
    "\n",
    "\n",
    "\n",
    "\n",
    "\n",
    "\n"
   ]
  },
  {
   "cell_type": "markdown",
   "metadata": {},
   "source": [
    "age group of (0-10) survived more compare to others and age is negatively related to survived\n"
   ]
  },
  {
   "cell_type": "code",
   "execution_count": 21,
   "metadata": {
    "collapsed": false
   },
   "outputs": [
    {
     "name": "stdout",
     "output_type": "stream",
     "text": [
      "correlation between age and survived=-0.0674849756853\n"
     ]
    }
   ],
   "source": [
    "def correlation(x,y):\n",
    "    std_x=(x-x.mean())/x.std(ddof=0)\n",
    "    std_y=(y-y.mean())/y.std(ddof=0)\n",
    "    return (std_x*std_y).mean()\n",
    "#finding correlation between age and survival\n",
    "x=dataset['Age']\n",
    "y=dataset['Survived']\n",
    "print 'correlation between age and survived={}'.format(correlation(x,y))\n",
    "\n",
    "    "
   ]
  },
  {
   "cell_type": "markdown",
   "metadata": {},
   "source": [
    "The correlation coefficient ranges from −1 to 1. A value of 1 implies that a linear equation describes the relationship between X and Y perfectly, with all data points lying on a line for which Y increases as X increases. A value of −1 implies that all data points lie on a line for which Y decreases as X increases. A value of 0 implies that there is no linear correlation between the variables. \n",
    "The coefficient is negative, so the variables are inversely related, Therefore, values of age and survived lie on the opposite side of their means. So, This may mean that the correlation check indicates that lesser number of adults survived as compared to children"
   ]
  },
  {
   "cell_type": "code",
   "execution_count": 22,
   "metadata": {
    "collapsed": false
   },
   "outputs": [
    {
     "data": {
      "image/png": "[encoded data removed]",
      "text/plain": [
       "<matplotlib.figure.Figure at 0x9af5b38>"
      ]
     },
     "metadata": {},
     "output_type": "display_data"
    },
    {
     "data": {
      "image/png": "[encoded data removed]",
      "text/plain": [
       "<matplotlib.figure.Figure at 0xae29128>"
      ]
     },
     "metadata": {},
     "output_type": "display_data"
    },
    {
     "data": {
      "text/html": [
       "<div>\n",
       "<table border=\"1\" class=\"dataframe\">\n",
       "  <thead>\n",
       "    <tr style=\"text-align: right;\">\n",
       "      <th></th>\n",
       "      <th>Age</th>\n",
       "    </tr>\n",
       "  </thead>\n",
       "  <tbody>\n",
       "    <tr>\n",
       "      <th>count</th>\n",
       "      <td>891.000000</td>\n",
       "    </tr>\n",
       "    <tr>\n",
       "      <th>mean</th>\n",
       "      <td>29.318643</td>\n",
       "    </tr>\n",
       "    <tr>\n",
       "      <th>std</th>\n",
       "      <td>13.281103</td>\n",
       "    </tr>\n",
       "    <tr>\n",
       "      <th>min</th>\n",
       "      <td>0.420000</td>\n",
       "    </tr>\n",
       "    <tr>\n",
       "      <th>25%</th>\n",
       "      <td>21.750000</td>\n",
       "    </tr>\n",
       "    <tr>\n",
       "      <th>50%</th>\n",
       "      <td>26.507589</td>\n",
       "    </tr>\n",
       "    <tr>\n",
       "      <th>75%</th>\n",
       "      <td>36.000000</td>\n",
       "    </tr>\n",
       "    <tr>\n",
       "      <th>max</th>\n",
       "      <td>80.000000</td>\n",
       "    </tr>\n",
       "  </tbody>\n",
       "</table>\n",
       "</div>"
      ],
      "text/plain": [
       "              Age\n",
       "count  891.000000\n",
       "mean    29.318643\n",
       "std     13.281103\n",
       "min      0.420000\n",
       "25%     21.750000\n",
       "50%     26.507589\n",
       "75%     36.000000\n",
       "max     80.000000"
      ]
     },
     "execution_count": 22,
     "metadata": {},
     "output_type": "execute_result"
    },
    {
     "data": {
      "image/png": "[encoded data removed]",
      "text/plain": [
       "<matplotlib.figure.Figure at 0x9aadd68>"
      ]
     },
     "metadata": {},
     "output_type": "display_data"
    }
   ],
   "source": [
    "\n",
    "\n",
    "\n",
    "\n",
    "dataset[dataset['Sex']=='female']['Age'].hist(color='r')\n",
    "plt.title('Histogram of Females on Titanic',fontsize=24)\n",
    "plt.xlabel(\"Age\",fontsize=20)\n",
    "plt.ylabel(\"no of male\",fontsize=20)\n",
    "plt.show()\n",
    "\n",
    "dataset[dataset['Sex']=='male']['Age'].hist(color='g')\n",
    "plt.title('Histogram of Males on Titanic',fontsize=24)\n",
    "plt.xlabel(\"Age\",fontsize=20)\n",
    "plt.ylabel(\"no of female\",fontsize=20)\n",
    "plt.show()\n",
    "\n",
    "ax=dataset['Age'].hist()\n",
    "ax.set_ylabel('no of passenger')\n",
    "ax.set_xlabel('age')\n",
    "ax.set_title('distribution of passenger')\n",
    "pd.DataFrame(dataset['Age']).describe()"
   ]
  },
  {
   "cell_type": "markdown",
   "metadata": {},
   "source": [
    "**  1.age of oldest passenger is 80 year. **\n",
    "\n",
    "\n",
    "** no of passenger of age between 20 and 30 and between 30 and 40 are more compare to others. as we can say no of adult is more compare to children and older people**"
   ]
  },
  {
   "cell_type": "markdown",
   "metadata": {},
   "source": [
    "## how passenger class affect the survival rate"
   ]
  },
  {
   "cell_type": "code",
   "execution_count": 23,
   "metadata": {
    "collapsed": false
   },
   "outputs": [
    {
     "name": "stdout",
     "output_type": "stream",
     "text": [
      "total no of passenger in first class=216\n",
      "total no of passenger in second class=184\n",
      "total no of passenger in third class=491\n",
      "total no of passenger survived in first class=136\n",
      "total no of passenger survived in second class=87\n",
      "total no of passenger survived in third class=119\n",
      "total no of passenger did not survived in first class=80\n",
      "total no of passenger did not survived in second class=97\n",
      "total no of passenger did not survived in third class =372\n",
      "percentage of first class passenger who survived=62.962962963\n",
      "percentage of second class passenger who survived=47.2826086957\n",
      "percentage of third class passenger who survived=24.2362525458\n"
     ]
    }
   ],
   "source": [
    "#how passenger class affect survival rate\n",
    "#finding no of people class wise\n",
    "no_first_class=len(dataset[dataset['Pclass']==1])\n",
    "no_second_class=len(dataset[dataset['Pclass']==2])\n",
    "no_third_class=len(dataset[dataset['Pclass']==3])\n",
    "\n",
    "print 'total no of passenger in first class={}'.format(no_first_class)\n",
    "print  'total no of passenger in second class={}'.format(no_second_class)\n",
    "print  'total no of passenger in third class={}'.format(no_third_class)\n",
    "\n",
    "#finding no of passenger survived class wise\n",
    "\n",
    "no_first_class_survived=len(dataset[(dataset['Pclass']==1) &(dataset['Survived']==1)])\n",
    "no_second_class_survived=len(dataset[(dataset['Pclass']==2) &(dataset['Survived']==1)])\n",
    "no_third_class_survived=len(dataset[(dataset['Pclass']==3) &(dataset['Survived']==1)])\n",
    "print 'total no of passenger survived in first class={}'.format(no_first_class_survived)\n",
    "print 'total no of passenger survived in second class={}'.format(no_second_class_survived)\n",
    "print 'total no of passenger survived in third class={}'.format(no_third_class_survived)\n",
    "\n",
    "\n",
    "#find no of passenger who didnot survived\n",
    "\n",
    "no_first_class_not_survived=no_first_class-no_first_class_survived\n",
    "no_second_class_not_survived=no_second_class-no_second_class_survived\n",
    "no_third_class_not_survived=no_third_class-no_third_class_survived\n",
    "\n",
    "print 'total no of passenger did not survived in first class={}'.format(no_first_class_not_survived)\n",
    "print 'total no of passenger did not survived in second class={}'.format(no_second_class_not_survived)\n",
    "print 'total no of passenger did not survived in third class ={}'.format(no_third_class_not_survived)\n",
    "\n",
    "#find percentage of survival\n",
    "percent_first_class_survival= (no_first_class_survived*1.0/no_first_class)*100\n",
    "percent_second_class_survival= (no_second_class_survived*1.0/no_second_class)*100\n",
    "percent_third_class_survival= (no_third_class_survived*1.0/no_third_class)*100\n",
    " \n",
    "print 'percentage of first class passenger who survived={}'.format(percent_first_class_survival)\n",
    "print 'percentage of second class passenger who survived={}'.format(percent_second_class_survival)\n",
    "print 'percentage of third class passenger who survived={}'.format(percent_third_class_survival)\n",
    "\n"
   ]
  },
  {
   "cell_type": "code",
   "execution_count": 24,
   "metadata": {
    "collapsed": false
   },
   "outputs": [
    {
     "data": {
      "image/png": "[encoded data removed]",
      "text/plain": [
       "<matplotlib.figure.Figure at 0x98142e8>"
      ]
     },
     "metadata": {},
     "output_type": "display_data"
    }
   ],
   "source": [
    "survived=(no_first_class_survived,no_second_class_survived,no_third_class_survived)\n",
    "notsurvived=(no_first_class_not_survived,no_second_class_not_survived,no_third_class_not_survived)\n",
    "index=np.arange(3)\n",
    "width=0.4\n",
    "p1 = plt.bar(index, survived,width ,color='g')\n",
    "p2 = plt.bar(index, notsurvived,width, color='r',bottom=survived)\n",
    "plt.ylabel('Number of Passengers')\n",
    "plt.title('Survival Stats by class')\n",
    "plt.xticks(index +width/2, ('1st Class', '2nd Class', '3rd Class'))\n",
    "plt.yticks(np.arange(0, 800, 50))\n",
    "plt.legend((p1, p2), ('Survived', 'Did not Survive'))\n",
    "\n",
    "plt.show()\n"
   ]
  },
  {
   "cell_type": "markdown",
   "metadata": {},
   "source": [
    "In pclass= 1 , no of survived passenger is more than no of passenger who did not survived.\n",
    "\n",
    " In pclass= 2,no of survived passenger is almost equal to no of passenger who did no survived.But in pclass=3 no of not survived is very more than who survived"
   ]
  },
  {
   "cell_type": "code",
   "execution_count": 25,
   "metadata": {
    "collapsed": false
   },
   "outputs": [
    {
     "name": "stdout",
     "output_type": "stream",
     "text": [
      "correlation between pclass and survival=-0.338481035961\n"
     ]
    }
   ],
   "source": [
    "#correlation between pclass and survival\n",
    "pclass=dataset['Pclass']\n",
    "print 'correlation between pclass and survival={}'.format(correlation(pclass,y))"
   ]
  },
  {
   "cell_type": "markdown",
   "metadata": {},
   "source": [
    "here correlation is negative it implies that survival rate will get as pclass increases from 1 to 3\n"
   ]
  },
  {
   "cell_type": "code",
   "execution_count": 34,
   "metadata": {
    "collapsed": false
   },
   "outputs": [
    {
     "name": "stdout",
     "output_type": "stream",
     "text": [
      "number of male survived in first class=45\n",
      "number of female survived in first class=91\n",
      "number of male survived in second class=17\n",
      "number of female survived in second class=70\n",
      "number of male surv in 3rd class=47\n",
      "number of feamle survived in 3rd class=72\n",
      "percentage of male survived in first class=36.8852459016\n",
      "percentage of female survived in first class=96.8085106383\n",
      "percentage of male survived in second class=15.7407407407\n",
      "percentage of female survived in second class=92.1052631579\n",
      "percentage of male survived in third class=13.5446685879\n",
      "percentage of female survived in third class=50.0\n"
     ]
    }
   ],
   "source": [
    "#finding relation between sex,class and survival\n",
    "\n",
    "#finding no of male in  first class\n",
    "no_first_class_male=len(dataset[(dataset['Sex']=='male')&(dataset['Pclass']==1)])\n",
    "#finding no of female in first class\n",
    "no_first_class_female=len(dataset[(dataset['Sex']=='female')&(dataset['Pclass']==1)])\n",
    "#finding no of male in first class who survived\n",
    "no_first_class_male_survived=len(dataset[(dataset['Sex']=='male')&(dataset['Pclass']==1)&(dataset['Survived']==1)])\n",
    "\n",
    "print 'number of male survived in first class={}'.format(no_first_class_male_survived)\n",
    "#finding no of female survived in first class\n",
    "no_first_class_female_survived=len(dataset[(dataset['Sex']=='female')&(dataset['Pclass']==1)&(dataset['Survived']==1)])\n",
    "\n",
    "print 'number of female survived in first class={}'.format(no_first_class_female_survived)\n",
    "#finding no of male in second class\n",
    "no_second_class_male=len(dataset[(dataset['Sex']=='male')&(dataset['Pclass']==2)])\n",
    "#finding no of female in second class\n",
    "no_second_class_female=len(dataset[(dataset['Sex']=='female')&(dataset['Pclass']==2)])\n",
    "#finding no of male survived in second class\n",
    "no_second_class_male_survived=len(dataset[(dataset['Sex']=='male')&(dataset['Pclass']==2)&(dataset['Survived']==1)])\n",
    "\n",
    "print 'number of male survived in second class={}'.format(no_second_class_male_survived)\n",
    "#finding no of female survived in second class\n",
    "no_second_class_female_survived=len(dataset[(dataset['Sex']=='female')&(dataset['Pclass']==2)&(dataset['Survived']==1)])\n",
    "\n",
    "print 'number of female survived in second class={}'.format(no_second_class_female_survived)\n",
    "#finding no of male in third class\n",
    "no_third_class_male=len(dataset[(dataset['Sex']=='male')&(dataset['Pclass']==3)])\n",
    "#finding no of female in third class\n",
    "no_third_class_female=len(dataset[(dataset['Sex']=='female')&(dataset['Pclass']==3)])\n",
    "#find no of male survived in third class\n",
    "no_third_class_male_survived=len(dataset[(dataset['Sex']=='male')&(dataset['Pclass']==3)&(dataset['Survived']==1)])\n",
    "\n",
    "print 'number of male surv in 3rd class={}'.format(no_third_class_male_survived)\n",
    "#finding no of female survived in third class\n",
    "no_third_class_female_survived=len(dataset[(dataset['Sex']=='female')&(dataset['Pclass']==3)&(dataset['Survived']==1)])\n",
    "\n",
    "print 'number of feamle survived in 3rd class={}'.format(no_third_class_female_survived)\n",
    "\n",
    "#finding percentage of male and female survival in different class\n",
    "percent_male_survived_first_class=(no_first_class_male_survived*1.0/no_first_class_male)*100\n",
    "percent_female_survived_first_class=(no_first_class_female_survived*1.0/no_first_class_female)*100\n",
    "\n",
    "percent_male_survived_second_class=(no_second_class_male_survived*1.0/no_second_class_male)*100\n",
    "percent_female_survived_second_class=(no_second_class_female_survived*1.0/no_second_class_female)*100\n",
    "\n",
    "percent_male_survived_third_class=(no_third_class_male_survived*1.0/no_third_class_male)*100\n",
    "percent_female_survived_third_class=(no_third_class_female_survived*1.0/no_third_class_female)*100\n",
    "\n",
    "print 'percentage of male survived in first class={}'.format(percent_male_survived_first_class)\n",
    "print 'percentage of female survived in first class={}'.format(percent_female_survived_first_class)\n",
    "print 'percentage of male survived in second class={}'.format(percent_male_survived_second_class)\n",
    "print 'percentage of female survived in second class={}'.format(percent_female_survived_second_class)\n",
    "print 'percentage of male survived in third class={}'.format(percent_male_survived_third_class)\n",
    "print 'percentage of female survived in third class={}'.format(percent_female_survived_third_class)\n",
    "\n",
    "\n",
    "\n",
    "\n",
    "\n"
   ]
  },
  {
   "cell_type": "code",
   "execution_count": 27,
   "metadata": {
    "collapsed": false
   },
   "outputs": [
    {
     "data": {
      "image/png": "[encoded data removed]",
      "text/plain": [
       "<matplotlib.figure.Figure at 0xb405908>"
      ]
     },
     "metadata": {},
     "output_type": "display_data"
    }
   ],
   "source": [
    "male_survived=(percent_male_survived_first_class,percent_male_survived_second_class,percent_male_survived_third_class)\n",
    "female_survived=(percent_female_survived_first_class,percent_female_survived_second_class,percent_female_survived_third_class)\n",
    "index=np.arange(3)\n",
    "width=0.4\n",
    "b1=plt.bar(index,male_survived,width,color='g',label='male')\n",
    "b2=plt.bar(index+width,female_survived,width,color='y',label='female')\n",
    "plt.xlabel('Class')\n",
    "plt.ylabel('Percentages')\n",
    "plt.title('Percentage of men and women who survived')\n",
    "plt.xticks(index + width, ('First Class', 'Second Class', 'Third Class'))\n",
    "plt.legend()\n",
    "\n",
    "#plt.tight_layout()\n",
    "plt.show()\n"
   ]
  },
  {
   "cell_type": "markdown",
   "metadata": {},
   "source": [
    "** in first class approx 97% female survived compare to male and also overall no female survived more than male in every class\n",
    "but perecentage of survival of female got reduced respectively with first class,second class and third class **\n"
   ]
  },
  {
   "cell_type": "markdown",
   "metadata": {},
   "source": [
    "** male survived approx 37% in first class but this percentage reduced to 16 and 14 % respectively with second and third class ** "
   ]
  },
  {
   "cell_type": "markdown",
   "metadata": {},
   "source": [
    "## whose possibility is more to survive travelling with family or alone\n"
   ]
  },
  {
   "cell_type": "code",
   "execution_count": 28,
   "metadata": {
    "collapsed": false
   },
   "outputs": [
    {
     "name": "stdout",
     "output_type": "stream",
     "text": [
      "total no of passenger travelling alone=537\n",
      "total no of passenger travelling with family=354\n",
      "total no of passenger survived travelling alone=163\n",
      "total no of passenger survived travelling with parent\n",
      "percentage of passenger survived travelling alone=30.3538175047\n",
      "percentage of passenger survived travelling with parent=50.5649717514\n"
     ]
    }
   ],
   "source": [
    "#finding how survival rate is affected by traveling alone and with family\n",
    "no_passenger_alone=len(dataset[(dataset['SibSp']==0) & (dataset['Parch']==0)])\n",
    "no_passenger_family=len(dataset[(dataset['SibSp']>0) | (dataset['Parch']>0)])\n",
    "no_passenger_alone_survived=len(dataset[(dataset['SibSp']==0) & (dataset['Parch']==0) &(dataset['Survived']==1)])\n",
    "no_passenger_family_survived=len(dataset[((dataset['SibSp']>0) | (dataset['Parch']>0)) &(dataset['Survived']==1)])\n",
    "\n",
    "#finding perecentage of passenger who survived travelling alone\n",
    "percent_survived_alone=(no_passenger_alone_survived*1.0/no_passenger_alone)*100\n",
    "percent_survived_family=(no_passenger_family_survived*1.0/no_passenger_family)*100\n",
    "\n",
    "print 'total no of passenger travelling alone={}'.format(no_passenger_alone)\n",
    "print 'total no of passenger travelling with family={}'.format(no_passenger_family)\n",
    "\n",
    "print 'total no of passenger survived travelling alone={}'.format(no_passenger_alone_survived)\n",
    "print 'total no of passenger survived travelling with parent'.format(no_passenger_family_survived)\n",
    "\n",
    "print 'percentage of passenger survived travelling alone={}'.format(percent_survived_alone)\n",
    "print 'percentage of passenger survived travelling with parent={}'.format(percent_survived_family)\n",
    "\n",
    "\n",
    "\n"
   ]
  },
  {
   "cell_type": "code",
   "execution_count": 29,
   "metadata": {
    "collapsed": false,
    "scrolled": false
   },
   "outputs": [
    {
     "data": {
      "image/png": "[encoded data removed]",
      "text/plain": [
       "<matplotlib.figure.Figure at 0xb4b99e8>"
      ]
     },
     "metadata": {},
     "output_type": "display_data"
    }
   ],
   "source": [
    "object5=('alone','with family')\n",
    "\n",
    "percentage5=[percent_survived_alone,percent_survived_family]\n",
    "plotbar(object5,percentage5,'percentage',0.8,'g','distribution of passenger travelling alone or with family')"
   ]
  },
  {
   "cell_type": "markdown",
   "metadata": {},
   "source": [
    "** survival rate of passenger travelling alone is less than passenger travelling with family **"
   ]
  },
  {
   "cell_type": "markdown",
   "metadata": {
    "collapsed": false
   },
   "source": [
    "## how fare rate affected the survival\n",
    "#### high fare = fare>50\n",
    "#### average fare= 20<fare<=50\n",
    "#### low fare=fare<=20\n"
   ]
  },
  {
   "cell_type": "code",
   "execution_count": 30,
   "metadata": {
    "collapsed": false
   },
   "outputs": [
    {
     "name": "stdout",
     "output_type": "stream",
     "text": [
      "no of passenger with high fare=160\n",
      "no of passenger with average fare=216\n",
      "no of passenger with low fare=515\n",
      "no of passenger survived with high fare=109\n",
      "no of passenger survived with average fare=90\n",
      "no of passenger survived with low fare=143\n",
      "percentage of passenger survived with high ticket fare=68.125\n",
      "percentage of passenger survived with average ticket fare=41.6666666667\n",
      "percentage of passenger survived with low ticket fare=27.7669902913\n",
      " \n",
      "percentage of passenger not survived with high ticket fare=31.875\n",
      "percentage of passenger not survived with average ticket fare=58.3333333333\n",
      "percentage of passenger not survived with low ticket fare=72.2330097087\n"
     ]
    }
   ],
   "source": [
    "#finding no of people survived who ticket fare was greater 50\n",
    "no_passenger_high_fare=len(dataset[dataset['Fare']>50])\n",
    "no_passenger_average_fare=len(dataset[(dataset['Fare']<=50) &(dataset['Fare']>20)])\n",
    "no_passenger_low_fare=len(dataset[dataset['Fare']<=20])\n",
    "\n",
    "print 'no of passenger with high fare={}'.format(no_passenger_high_fare)\n",
    "print 'no of passenger with average fare={}'.format(no_passenger_average_fare)\n",
    "print 'no of passenger with low fare={}'.format(no_passenger_low_fare)\n",
    "\n",
    "no_passenger_hf_survived=len(dataset[(dataset['Fare']>50) &(dataset['Survived']==1)])\n",
    "no_passenger_af_survived=len(dataset[(dataset['Fare']<=50) &(dataset['Fare']>20)&(dataset['Survived']==1)])\n",
    "no_passenger_lf_survived=len(dataset[(dataset['Fare']<=20)&(dataset['Survived']==1)])\n",
    "\n",
    "print 'no of passenger survived with high fare={}'.format(no_passenger_hf_survived)\n",
    "print 'no of passenger survived with average fare={}'.format(no_passenger_af_survived)\n",
    "print 'no of passenger survived with low fare={}'.format(no_passenger_lf_survived)\n",
    "\n",
    "percent_hf_survived=(no_passenger_hf_survived*1.0/no_passenger_high_fare)*100\n",
    "percent_hf_not_survived=100-percent_hf_survived\n",
    "percent_af_survived=(no_passenger_af_survived*1.0/no_passenger_average_fare)*100\n",
    "percent_af_not_survived=100-percent_af_survived\n",
    "percent_lf_survived=(no_passenger_lf_survived*1.0/no_passenger_low_fare)*100\n",
    "percent_lf_not_survived=100-percent_lf_survived\n",
    "\n",
    "print 'percentage of passenger survived with high ticket fare={}'.format(percent_hf_survived)\n",
    "print 'percentage of passenger survived with average ticket fare={}'.format(percent_af_survived)\n",
    "print 'percentage of passenger survived with low ticket fare={}'.format(percent_lf_survived)\n",
    "print ' '\n",
    "print 'percentage of passenger not survived with high ticket fare={}'.format(percent_hf_not_survived)\n",
    "print 'percentage of passenger not survived with average ticket fare={}'.format(percent_af_not_survived)\n",
    "print 'percentage of passenger not survived with low ticket fare={}'.format(percent_lf_not_survived)\n",
    "\n"
   ]
  },
  {
   "cell_type": "code",
   "execution_count": 31,
   "metadata": {
    "collapsed": false
   },
   "outputs": [
    {
     "data": {
      "image/png": "[encoded data removed]",
      "text/plain": [
       "<matplotlib.figure.Figure at 0xace8048>"
      ]
     },
     "metadata": {},
     "output_type": "display_data"
    }
   ],
   "source": [
    "survived=(percent_hf_survived,percent_af_survived,percent_lf_survived)\n",
    "not_survived=(percent_hf_not_survived,percent_af_not_survived,percent_lf_not_survived)\n",
    "index=np.arange(3)\n",
    "width=0.4\n",
    "b1=plt.bar(index,survived,width,color='g',label='survived')\n",
    "b2=plt.bar(index+width,not_survived,width,color='r',label='not survived')\n",
    "plt.xlabel('Class')\n",
    "plt.ylabel('Percentages')\n",
    "plt.title('Percentage of passenger who survived and who didnt survived')\n",
    "plt.xticks(index + width, ('high fare', 'average fare', 'low fare'))\n",
    "plt.legend()\n",
    "\n",
    "\n",
    "plt.show()"
   ]
  },
  {
   "cell_type": "markdown",
   "metadata": {},
   "source": [
    "** survival rate of passenger with high fare is more than passenger with average and low fare .**\n",
    "**  As above graph depicts that percent of survived is more than who did not survived in case of passenger with high fare**\n",
    "\n",
    "** but in case of average fare percent of survived is less than who did not survived and it is same with low fare but here diiference is large. ** \n",
    "### no of passenger survived =( high fare>average fare >low fare) \n"
   ]
  },
  {
   "cell_type": "code",
   "execution_count": 32,
   "metadata": {
    "collapsed": false
   },
   "outputs": [
    {
     "name": "stdout",
     "output_type": "stream",
     "text": [
      "correlation between fare and survive=0.257306522385\n"
     ]
    }
   ],
   "source": [
    "#correlation between fare and survive\n",
    "f=dataset['Fare']\n",
    "\n",
    "print 'correlation between fare and survive={}'.format(correlation(f,y))"
   ]
  },
  {
   "cell_type": "markdown",
   "metadata": {},
   "source": [
    "here correlation is positive.so more of passenger with high fare will survived. but its not the exact case that all passenger with high fare will survive"
   ]
  },
  {
   "cell_type": "code",
   "execution_count": 33,
   "metadata": {
    "collapsed": false
   },
   "outputs": [
    {
     "data": {
      "text/plain": [
       "(28.183708986925804, 30.025650613845645, 88948.0, 0.093277599318142945)"
      ]
     },
     "execution_count": 33,
     "metadata": {},
     "output_type": "execute_result"
    }
   ],
   "source": [
    "#mann whitney test u test\n",
    "import scipy\n",
    "import scipy.stats\n",
    "def man_whitney_test(x):\n",
    "    survive=dataset[dataset.Survived==1][x]\n",
    "    not_survived=dataset[dataset.Survived==0][x]\n",
    "    survive_mean=np.mean(survive)\n",
    "    not_survive_mean=np.mean(not_survived)\n",
    "    U,P=scipy.stats.mannwhitneyu(survive,not_survived)\n",
    "    return survive_mean,not_survive_mean,U,P\n",
    "man_whitney_test('Age')"
   ]
  },
  {
   "cell_type": "markdown",
   "metadata": {},
   "source": [
    "The Mann-Whitney U test is used to compare differences between two independent groups when the dependent variable is either ordinal or continuous, but not normally distributed.\n",
    "\n",
    "\n",
    "p=0.0005\n",
    "\n",
    "\n",
    "so null hyothesis that mean age of survival is equal to mean age of not survived is rejected.The mean age is of survival is less than mean age of not survived "
   ]
  },
  {
   "cell_type": "markdown",
   "metadata": {},
   "source": [
    "# 5.conclusion\n",
    "#### 1.total 342 passenger survived out of 891,in that 109 male survived means only about 19% male survived and 233 female survived which is 74%. so female survived more compare to male\n",
    "#### 2. children survived more compared to adult and adult survived more compare to older people\n",
    "#### 3. passenger of first class survived more compare to second class and second class survived more compare to third class\n",
    "####  4. passenger travelling with family survived more than passenger travelling alone\n",
    "#### 5.survival rate is more whose ticket fare is high\n",
    "\n",
    "## 5.a limitation of titanic dataset\n",
    "** 1. there were 177 missing age value in the dataset :**\n",
    "    I had a choice with how to handle the missing ages each with their pros and cons:\n",
    "    \n",
    "    \n",
    "a.delete the rows with the missing ages - this would limit the accuracy of the analysis of the gender and class, however the accuracy of the analysis of the Age factor would be more accurate\n",
    "\n",
    "b.fill missing  agev alue  with mean age value- this could skew the results of the age analysis.  I choose this option, however I based the ages on the average for the Gender and Class.\n",
    "\n",
    "** 2.there were so many missing value in the dataset **\n"
   ]
  },
  {
   "cell_type": "markdown",
   "metadata": {},
   "source": [
    "#### Refrence\n",
    "\n",
    "1. <http://www.s-kape.com/posts/ucdand-p2>\n",
    "2. <https://pythonspot.com/en/matplotlib-bar-chart/>\n",
    "3. <https://github.com/aashika/P2-Investigate-a-dataset>\n"
   ]
  },
  {
   "cell_type": "code",
   "execution_count": null,
   "metadata": {
    "collapsed": true
   },
   "outputs": [],
   "source": []
  }
 ],
 "metadata": {
  "anaconda-cloud": {},
  "kernelspec": {
   "display_name": "Python [default]",
   "language": "python",
   "name": "python2"
  },
  "language_info": {
   "codemirror_mode": {
    "name": "ipython",
    "version": 2
   },
   "file_extension": ".py",
   "mimetype": "text/x-python",
   "name": "python",
   "nbconvert_exporter": "python",
   "pygments_lexer": "ipython2",
   "version": "2.7.12"
  }
 },
 "nbformat": 4,
 "nbformat_minor": 1
}
